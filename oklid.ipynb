{
  "nbformat": 4,
  "nbformat_minor": 0,
  "metadata": {
    "colab": {
      "provenance": []
    },
    "kernelspec": {
      "name": "python3",
      "display_name": "Python 3"
    },
    "language_info": {
      "name": "python"
    }
  },
  "cells": [
    {
      "cell_type": "code",
      "execution_count": 1,
      "metadata": {
        "colab": {
          "base_uri": "https://localhost:8080/"
        },
        "id": "F_Jic5YjoYEP",
        "outputId": "cdbc0f43-c7f9-42a6-8f83-755c21f9a358"
      },
      "outputs": [
        {
          "output_type": "stream",
          "name": "stdout",
          "text": [
            "Minimum mesafe: 1.4142135623730951\n"
          ]
        }
      ],
      "source": [
        "points = [(1, 2), (4, 6), (7, 1), (2, 3)]\n",
        "\n",
        "def euclideanDistance(point1, point2):\n",
        "    return ((point2[0] - point1[0]) ** 2 + (point2[1] - point1[1]) ** 2) ** 0.5\n",
        "\n",
        "distances = []\n",
        "for i in range(len(points)):\n",
        "    for j in range(i + 1, len(points)):\n",
        "        distance = euclideanDistance(points[i], points[j])\n",
        "        distances.append(distance)\n",
        "\n",
        "min_distance = min(distances)\n",
        "\n",
        "print(\"Minimum mesafe:\", min_distance)\n"
      ]
    },
    {
      "cell_type": "code",
      "source": [],
      "metadata": {
        "id": "vL4cE9IwoeQI"
      },
      "execution_count": null,
      "outputs": []
    }
  ]
}